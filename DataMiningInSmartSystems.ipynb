{
  "nbformat": 4,
  "nbformat_minor": 0,
  "metadata": {
    "colab": {
      "name": "DataMiningInSmartSystems.ipynb",
      "provenance": [],
      "collapsed_sections": [],
      "include_colab_link": true
    },
    "kernelspec": {
      "name": "python3",
      "display_name": "Python 3"
    }
  },
  "cells": [
    {
      "cell_type": "markdown",
      "metadata": {
        "id": "view-in-github",
        "colab_type": "text"
      },
      "source": [
        "<a href=\"https://colab.research.google.com/github/torta211/DataMining/blob/master/DataMiningInSmartSystems.ipynb\" target=\"_parent\"><img src=\"https://colab.research.google.com/assets/colab-badge.svg\" alt=\"Open In Colab\"/></a>"
      ]
    },
    {
      "cell_type": "markdown",
      "metadata": {
        "id": "uAuGcQiE1ygu",
        "colab_type": "text"
      },
      "source": [
        "# Clone data"
      ]
    },
    {
      "cell_type": "code",
      "metadata": {
        "id": "VnEZ0Ss6I6Gk",
        "colab_type": "code",
        "colab": {
          "base_uri": "https://localhost:8080/",
          "height": 153
        },
        "outputId": "eee13ac6-3a0f-488f-cf1c-aa2a4a769724"
      },
      "source": [
        "!git clone --single-branch --branch data-only https://github.com/torta211/DataMining\n",
        "%cd DataMining"
      ],
      "execution_count": 1,
      "outputs": [
        {
          "output_type": "stream",
          "text": [
            "Cloning into 'DataMining'...\n",
            "remote: Enumerating objects: 102, done.\u001b[K\n",
            "remote: Counting objects: 100% (102/102), done.\u001b[K\n",
            "remote: Compressing objects: 100% (98/98), done.\u001b[K\n",
            "remote: Total 102 (delta 2), reused 102 (delta 2), pack-reused 0\u001b[K\n",
            "Receiving objects: 100% (102/102), 666.32 KiB | 945.00 KiB/s, done.\n",
            "Resolving deltas: 100% (2/2), done.\n",
            "/content/DataMining\n"
          ],
          "name": "stdout"
        }
      ]
    },
    {
      "cell_type": "markdown",
      "metadata": {
        "id": "FFaL3Avt12uU",
        "colab_type": "text"
      },
      "source": [
        "# Description (business understanding)"
      ]
    },
    {
      "cell_type": "markdown",
      "metadata": {
        "id": "Qlm0osODvDYq",
        "colab_type": "text"
      },
      "source": [
        "https://archive.ics.uci.edu/ml/datasets/Activity+recognition+with+healthy+older+people+using+a+batteryless+wearable+sensor#\n",
        "\n",
        "This dataset contains the motion data of 14 healthy older aged between 66 and 86 years old, performed broadly scripted activities using a batteryless, wearable sensor on top of their clothing at sternum level.\n",
        "\n",
        "Data is sparse and noisy due to the use of a passive sensor.\n",
        "\n",
        "\n",
        "Participants were allocated in two clinical room settings (S1 and S2). The setting of S1 (Room1) uses 4 RFID reader antennas around the room (one on ceiling level, and 3 on wall level) for the collection of data, whereas the room setting S2 (Room2) uses 3 RFID reader antennas (two at ceiling level and one at wall level) for the collection of motion data."
      ]
    },
    {
      "cell_type": "markdown",
      "metadata": {
        "id": "7COj1MbJveoP",
        "colab_type": "text"
      },
      "source": [
        "The activities performed were:\n",
        " - walking to the chair,\n",
        " - sitting on the chair,\n",
        " - getting off the chair,\n",
        " - walking to bed,\n",
        " - lying on bed,\n",
        " - getting off the bed and\n",
        " - walking to the door.\n",
        "\n",
        " \n",
        "Hence the possible class labels assigned for every sensor observation are:\n",
        "- Sitting on bed\n",
        "- Sitting on chair\n",
        "- Lying on bed\n",
        "- Ambulating, where ambulating includes standing, walking around the room."
      ]
    },
    {
      "cell_type": "markdown",
      "metadata": {
        "id": "xjb768jZvqhM",
        "colab_type": "text"
      },
      "source": [
        "The content of the file is as follows:\n",
        "\n",
        "Comma separated values (CSV) format.\n",
        " - Column 1: Time in seconds\n",
        " - Column 2: Acceleration reading in G for frontal axis\n",
        " - Column 3: Acceleration reading in G for vertical axis\n",
        " - Column 4: Acceleration reading in G for lateral axis\n",
        " - Column 5: Id of antenna reading sensor\n",
        " - Column 6: Received signal strength indicator (RSSI)\n",
        " - Column 7: Phase\n",
        " - Column 8: Frequency\n",
        " - Column 9: Label of activity, 1: sit on bed, 2: sit on chair, 3: lying, 4: ambulating\n",
        " \n",
        "In addition, gender of participant is included in the last character of file name eg: d1p33F (F:female)."
      ]
    },
    {
      "cell_type": "markdown",
      "metadata": {
        "id": "jjCYWutT2ANt",
        "colab_type": "text"
      },
      "source": [
        "# Data understanding"
      ]
    },
    {
      "cell_type": "code",
      "metadata": {
        "id": "DU3YWZ_s1__S",
        "colab_type": "code",
        "colab": {}
      },
      "source": [
        ""
      ],
      "execution_count": 0,
      "outputs": []
    },
    {
      "cell_type": "code",
      "metadata": {
        "id": "q6TaiHnzveT7",
        "colab_type": "code",
        "colab": {}
      },
      "source": [
        ""
      ],
      "execution_count": 0,
      "outputs": []
    },
    {
      "cell_type": "code",
      "metadata": {
        "id": "i5WlhP6hvgPV",
        "colab_type": "code",
        "colab": {}
      },
      "source": [
        ""
      ],
      "execution_count": 0,
      "outputs": []
    }
  ]
}