{
  "nbformat": 4,
  "nbformat_minor": 0,
  "metadata": {
    "colab": {
      "name": "DataMiningInSmartSystems.ipynb",
      "provenance": [],
      "collapsed_sections": []
    },
    "kernelspec": {
      "name": "python3",
      "display_name": "Python 3"
    }
  },
  "cells": [
    {
      "cell_type": "markdown",
      "metadata": {
        "id": "Qlm0osODvDYq",
        "colab_type": "text"
      },
      "source": [
        "This dataset contains the motion data of 14 healthy older aged between 66 and 86 years old, performed broadly scripted activities using a batteryless, wearable sensor on top of their clothing at sternum level.\n",
        "\n",
        "Data is sparse and noisy due to the use of a passive sensor.\n",
        "\n",
        "\n",
        "Participants were allocated in two clinical room settings (S1 and S2). The setting of S1 (Room1) uses 4 RFID reader antennas around the room (one on ceiling level, and 3 on wall level) for the collection of data, whereas the room setting S2 (Room2) uses 3 RFID reader antennas (two at ceiling level and one at wall level) for the collection of motion data."
      ]
    },
    {
      "cell_type": "markdown",
      "metadata": {
        "id": "7COj1MbJveoP",
        "colab_type": "text"
      },
      "source": [
        "The activities performed were:\n",
        " - walking to the chair,\n",
        " - sitting on the chair,\n",
        " - getting off the chair,\n",
        " - walking to bed,\n",
        " - lying on bed,\n",
        " - getting off the bed and\n",
        " - walking to the door.\n",
        "\n",
        " \n",
        "Hence the possible class labels assigned for every sensor observation are:\n",
        "- Sitting on bed\n",
        "- Sitting on chair\n",
        "- Lying on bed\n",
        "- Ambulating, where ambulating includes standing, walking around the room."
      ]
    },
    {
      "cell_type": "markdown",
      "metadata": {
        "id": "xjb768jZvqhM",
        "colab_type": "text"
      },
      "source": [
        "The content of the file is as follows:\n",
        "\n",
        "Comma separated values (CSV) format.\n",
        " - Column 1: Time in seconds\n",
        " - Column 2: Acceleration reading in G for frontal axis\n",
        " - Column 3: Acceleration reading in G for vertical axis\n",
        " - Column 4: Acceleration reading in G for lateral axis\n",
        " - Column 5: Id of antenna reading sensor\n",
        " - Column 6: Received signal strength indicator (RSSI)\n",
        " - Column 7: Phase\n",
        " - Column 8: Frequency\n",
        " - Column 9: Label of activity, 1: sit on bed, 2: sit on chair, 3: lying, 4: ambulating\n",
        " \n",
        "In addition, gender of participant is included in the last character of file name eg: d1p33F (F:female)."
      ]
    },
    {
      "cell_type": "code",
      "metadata": {
        "id": "VnEZ0Ss6I6Gk",
        "colab_type": "code",
        "colab": {}
      },
      "source": [
        ""
      ],
      "execution_count": 0,
      "outputs": []
    },
    {
      "cell_type": "code",
      "metadata": {
        "id": "q6TaiHnzveT7",
        "colab_type": "code",
        "colab": {}
      },
      "source": [
        ""
      ],
      "execution_count": 0,
      "outputs": []
    },
    {
      "cell_type": "code",
      "metadata": {
        "id": "i5WlhP6hvgPV",
        "colab_type": "code",
        "colab": {}
      },
      "source": [
        ""
      ],
      "execution_count": 0,
      "outputs": []
    }
  ]
}